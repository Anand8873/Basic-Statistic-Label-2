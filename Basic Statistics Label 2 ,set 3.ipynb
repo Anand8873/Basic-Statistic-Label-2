{
 "cells": [
  {
   "cell_type": "markdown",
   "id": "ff12ae57",
   "metadata": {},
   "source": [
    "## Question 5"
   ]
  },
  {
   "cell_type": "code",
   "execution_count": 1,
   "id": "fd243700",
   "metadata": {},
   "outputs": [
    {
     "name": "stdout",
     "output_type": "stream",
     "text": [
      "Margin of Error: 0.009181088562910174\n",
      "Confidence Interval: [0.0368, 0.0552]\n",
      "Conclusion: Mozilla's market share may not be less than 5%.\n"
     ]
    }
   ],
   "source": [
    "import math\n",
    "import pandas as pd\n",
    "import numpy as np\n",
    "\n",
    "sample_proportion = 0.046  \n",
    "sample_size = 2000\n",
    "confidence_level = 0.95  \n",
    "\n",
    "standard_error = math.sqrt((sample_proportion * (1 - sample_proportion)) / sample_size)\n",
    "\n",
    "z_score = 1.96  \n",
    "margin_of_error = z_score * standard_error\n",
    "\n",
    "lower_bound = sample_proportion - margin_of_error\n",
    "upper_bound = sample_proportion + margin_of_error\n",
    "\n",
    "if lower_bound < 0.05 and upper_bound > 0.05:\n",
    "    conclusion = \"Mozilla's market share may not be less than 5%.\"\n",
    "else:\n",
    "    conclusion = \"Mozilla's market share is likely less than 5%.\"\n",
    "\n",
    "print(\"Margin of Error:\",margin_of_error)\n",
    "print(\"Confidence Interval: [{:.4f}, {:.4f}]\".format(lower_bound, upper_bound))\n",
    "print(\"Conclusion:\", conclusion)\n"
   ]
  },
  {
   "cell_type": "markdown",
   "id": "050c2fde",
   "metadata": {},
   "source": [
    "## Question 8"
   ]
  },
  {
   "cell_type": "code",
   "execution_count": 2,
   "id": "22518a72",
   "metadata": {},
   "outputs": [
    {
     "name": "stdout",
     "output_type": "stream",
     "text": [
      "Minimum sample size needed: 601\n"
     ]
    }
   ],
   "source": [
    "import math\n",
    "\n",
    "# Given data\n",
    "confidence_level = 0.95\n",
    "margin_of_error = 0.04  # 4%\n",
    "\n",
    "# Z-score corresponding to 95% confidence level\n",
    "z_score = 1.96\n",
    "\n",
    "# Calculate minimum sample size using the formula\n",
    "minimum_sample_size = math.ceil((z_score**2 * 0.25) / (margin_of_error**2))\n",
    "\n",
    "# Print the options\n",
    "print(\"Minimum sample size needed:\", minimum_sample_size)\n"
   ]
  },
  {
   "cell_type": "markdown",
   "id": "87173498",
   "metadata": {},
   "source": [
    "## Question 9"
   ]
  },
  {
   "cell_type": "code",
   "execution_count": 3,
   "id": "c13b95e2",
   "metadata": {},
   "outputs": [
    {
     "name": "stdout",
     "output_type": "stream",
     "text": [
      "Minimum sample size needed: 849\n"
     ]
    }
   ],
   "source": [
    "import math\n",
    "\n",
    "# Given data\n",
    "confidence_level = 0.98\n",
    "margin_of_error = 0.04  # 4%\n",
    "\n",
    "# Z-score corresponding to 98% confidence level\n",
    "z_score = 2.33  # approximate value\n",
    "\n",
    "# Calculate minimum sample size using the formula\n",
    "minimum_sample_size = math.ceil((z_score**2 * 0.25) / (margin_of_error**2))\n",
    "\n",
    "# Print the options\n",
    "print(\"Minimum sample size needed:\", minimum_sample_size)\n"
   ]
  },
  {
   "cell_type": "code",
   "execution_count": null,
   "id": "ef018d0d",
   "metadata": {},
   "outputs": [],
   "source": []
  }
 ],
 "metadata": {
  "kernelspec": {
   "display_name": "Python 3 (ipykernel)",
   "language": "python",
   "name": "python3"
  },
  "language_info": {
   "codemirror_mode": {
    "name": "ipython",
    "version": 3
   },
   "file_extension": ".py",
   "mimetype": "text/x-python",
   "name": "python",
   "nbconvert_exporter": "python",
   "pygments_lexer": "ipython3",
   "version": "3.11.5"
  }
 },
 "nbformat": 4,
 "nbformat_minor": 5
}
