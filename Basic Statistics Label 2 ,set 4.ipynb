{
 "cells": [
  {
   "cell_type": "code",
   "execution_count": 1,
   "id": "cd2af0ca",
   "metadata": {},
   "outputs": [],
   "source": [
    "import scipy.stats as stats\n",
    "import numpy as np\n"
   ]
  },
  {
   "cell_type": "markdown",
   "id": "b4893a54",
   "metadata": {},
   "source": [
    "## Question 3"
   ]
  },
  {
   "cell_type": "code",
   "execution_count": 2,
   "id": "fc128404",
   "metadata": {},
   "outputs": [
    {
     "name": "stdout",
     "output_type": "stream",
     "text": [
      "Probability of investigation in any given week: 21.1 %\n"
     ]
    }
   ],
   "source": [
    "mean = 50\n",
    "std_dev = 40\n",
    "sample_size = 100\n",
    "lower_limit = 45\n",
    "upper_limit = 55\n",
    "\n",
    "# Calculate z-scores\n",
    "z_lower = (lower_limit - mean) / (std_dev / (sample_size ** 0.5))\n",
    "z_upper = (upper_limit - mean) / (std_dev / (sample_size ** 0.5))\n",
    "\n",
    "# Use cumulative distribution function (cdf) to find probability\n",
    "probability = stats.norm.cdf(z_upper) - stats.norm.cdf(z_lower)\n",
    "\n",
    "# Convert probability to percentage\n",
    "probability_percentage = (1-probability) * 100\n",
    "\n",
    "print(\"Probability of investigation in any given week:\", np.round((probability_percentage),1),\"%\")\n"
   ]
  },
  {
   "cell_type": "markdown",
   "id": "f21eccdb",
   "metadata": {},
   "source": [
    "## Question 4"
   ]
  },
  {
   "cell_type": "code",
   "execution_count": 3,
   "id": "b1cdae70",
   "metadata": {},
   "outputs": [
    {
     "name": "stdout",
     "output_type": "stream",
     "text": [
      "Minimum number of transactions to sample: 246\n"
     ]
    }
   ],
   "source": [
    "std_dev = 40\n",
    "alpha = 0.05  \n",
    "\n",
    "margin_of_error = (55 - 45) / 2\n",
    "\n",
    "z_alpha_2 = stats.norm.ppf(1 - alpha/2)\n",
    "\n",
    "required_sample_size = ((z_alpha_2 * std_dev) / margin_of_error) ** 2\n",
    "\n",
    "print(\"Minimum number of transactions to sample:\", round(required_sample_size))\n"
   ]
  },
  {
   "cell_type": "markdown",
   "id": "73201044",
   "metadata": {},
   "source": [
    "## Question 5"
   ]
  },
  {
   "cell_type": "code",
   "execution_count": 4,
   "id": "fc25dc28",
   "metadata": {},
   "outputs": [
    {
     "name": "stdout",
     "output_type": "stream",
     "text": [
      "Standard deviation of scores within the sample: 108.43\n",
      "Standard error of the mean across several samples: 12.0\n",
      "Mean score in the sample: 707.54\n",
      "Average of the mean across several samples: 720.13\n",
      "Standard deviation of the mean across several samples: 12.0\n"
     ]
    }
   ],
   "source": [
    "population_mean = 720\n",
    "population_std_dev = 120\n",
    "sample_size = 100\n",
    "\n",
    "np.random.seed(42) \n",
    "sample_scores = np.random.normal(population_mean, population_std_dev, sample_size)\n",
    "\n",
    "# [A].The standard deviation of the scores within any sample will be 120.\n",
    "sample_std_dev = np.std(sample_scores)\n",
    "print(\"Standard deviation of scores within the sample:\", np.round((sample_std_dev),2))\n",
    "# [B]. The standard deviation of the mean across several samples will be 120.\n",
    "standard_error = population_std_dev / np.sqrt(sample_size)\n",
    "print(\"Standard error of the mean across several samples:\", standard_error)\n",
    "# [C]. The mean score in any sample will be 720.\n",
    "sample_mean = np.mean(sample_scores)\n",
    "print(\"Mean score in the sample:\", np.round((sample_mean),2))\n",
    "#  [D]. The average of the mean across several samples will be 720.\n",
    "num_samples = 1000\n",
    "sample_means = [np.mean(np.random.normal(population_mean, population_std_dev, sample_size)) for _ in range(num_samples)]\n",
    "average_of_means = np.mean(sample_means)\n",
    "print(\"Average of the mean across several samples:\", np.round((average_of_means),2))\n",
    "\n",
    "# [E]. The standard deviation of the mean across several samples will be 0.60.\n",
    "\n",
    "print(\"Standard deviation of the mean across several samples:\", np.round((standard_error),2))\n"
   ]
  },
  {
   "cell_type": "code",
   "execution_count": null,
   "id": "29ed62c2",
   "metadata": {},
   "outputs": [],
   "source": []
  }
 ],
 "metadata": {
  "kernelspec": {
   "display_name": "Python 3 (ipykernel)",
   "language": "python",
   "name": "python3"
  },
  "language_info": {
   "codemirror_mode": {
    "name": "ipython",
    "version": 3
   },
   "file_extension": ".py",
   "mimetype": "text/x-python",
   "name": "python",
   "nbconvert_exporter": "python",
   "pygments_lexer": "ipython3",
   "version": "3.11.5"
  }
 },
 "nbformat": 4,
 "nbformat_minor": 5
}
