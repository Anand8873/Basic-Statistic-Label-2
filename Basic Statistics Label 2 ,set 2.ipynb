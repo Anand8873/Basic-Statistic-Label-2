{
 "cells": [
  {
   "cell_type": "code",
   "execution_count": 1,
   "id": "0f889373",
   "metadata": {},
   "outputs": [],
   "source": [
    "import numpy as np\n",
    "from scipy.stats import norm"
   ]
  },
  {
   "cell_type": "markdown",
   "id": "b666a5cf",
   "metadata": {},
   "source": [
    "# Question 1"
   ]
  },
  {
   "cell_type": "code",
   "execution_count": 2,
   "id": "f06e5697",
   "metadata": {},
   "outputs": [
    {
     "name": "stdout",
     "output_type": "stream",
     "text": [
      "Probability that the service manager cannot meet his commitment: 0.26598552904870054\n"
     ]
    }
   ],
   "source": [
    "# Mean and standard deviation of the service time\n",
    "mean_service_time = 45  # minutes\n",
    "std_dev_service_time = 8  # minutes\n",
    "\n",
    "# Time limit for servicing\n",
    "time_limit = 60  # minutes\n",
    "\n",
    "# Time buffer before starting service\n",
    "buffer_time = 10  # minutes\n",
    "\n",
    "# Calculate the probability of service time exceeding the time limit\n",
    "# We subtract the buffer time from the time limit to account for the delay in starting service\n",
    "prob_not_meeting_commitment = 1 - norm.cdf(time_limit - buffer_time, loc=mean_service_time, scale=std_dev_service_time)\n",
    "\n",
    "print(\"Probability that the service manager cannot meet his commitment:\", prob_not_meeting_commitment)"
   ]
  },
  {
   "cell_type": "markdown",
   "id": "2c6a22da",
   "metadata": {},
   "source": [
    "# Question 2"
   ]
  },
  {
   "cell_type": "code",
   "execution_count": 3,
   "id": "02db4fdb",
   "metadata": {},
   "outputs": [
    {
     "name": "stdout",
     "output_type": "stream",
     "text": [
      "Statement A: False\n",
      "Statement B: True\n"
     ]
    }
   ],
   "source": [
    "mean_age = 38\n",
    "std_dev_age = 6\n",
    "total_employees = 400\n",
    "\n",
    "# A. More employees at the processing center are older than 44 than between 38 and 44\n",
    "# Calculate the probability of being older than 44 and between 38 and 44\n",
    "prob_older_than_44 = 1 - norm.cdf(44, loc=mean_age, scale=std_dev_age)\n",
    "prob_between_38_and_44 = norm.cdf(44, loc=mean_age, scale=std_dev_age) - norm.cdf(38, loc=mean_age, scale=std_dev_age)\n",
    "\n",
    "# Compare the probabilities\n",
    "statement_a = prob_older_than_44 > prob_between_38_and_44\n",
    "\n",
    "# B. A training program for employees under the age of 30 at the center would be expected to attract about 36 employees\n",
    "# Calculate the probability of being under 30\n",
    "prob_under_30 = norm.cdf(30, loc=mean_age, scale=std_dev_age)\n",
    "\n",
    "# Calculate the expected number of employees under 30\n",
    "expected_employees_under_30 = total_employees * prob_under_30\n",
    "\n",
    "# Compare with the expected number of 36\n",
    "statement_b = np.isclose(expected_employees_under_30, 36, atol=1)\n",
    "\n",
    "# Print the results\n",
    "print(\"Statement A:\", statement_a)\n",
    "print(\"Statement B:\", statement_b)\n"
   ]
  },
  {
   "cell_type": "markdown",
   "id": "3b24b4e3",
   "metadata": {},
   "source": [
    "# Question 3"
   ]
  },
  {
   "cell_type": "code",
   "execution_count": 4,
   "id": "b9dc21c3",
   "metadata": {},
   "outputs": [
    {
     "name": "stdout",
     "output_type": "stream",
     "text": [
      "Mean of 2X1: 19.991456066526293\n",
      "Variance of 2X1: 16.109376886570377\n",
      "Mean of X1 + X2: 20.02279613939292\n",
      "Variance of X1 + X2: 7.966302571971617\n"
     ]
    }
   ],
   "source": [
    "mu = 10\n",
    "sigma_squared = 4\n",
    "\n",
    "# Simulate random variables\n",
    "np.random.seed(42)  # for reproducibility\n",
    "X1 = np.random.normal(mu, np.sqrt(sigma_squared), 10000)\n",
    "X2 = np.random.normal(mu, np.sqrt(sigma_squared), 10000)\n",
    "\n",
    "# Calculate 2X1 and X1 + X2\n",
    "two_X1 = 2 * X1\n",
    "sum_X1_X2 = X1 + X2\n",
    "\n",
    "# Print mean and variance of each distribution\n",
    "mean_2X1 = np.mean(two_X1)\n",
    "variance_2X1 = np.var(two_X1)\n",
    "\n",
    "mean_X1_X2 = np.mean(sum_X1_X2)\n",
    "variance_X1_X2 = np.var(sum_X1_X2)\n",
    "\n",
    "print(\"Mean of 2X1:\", mean_2X1)\n",
    "print(\"Variance of 2X1:\", variance_2X1)\n",
    "print(\"Mean of X1 + X2:\", mean_X1_X2)\n",
    "print(\"Variance of X1 + X2:\", variance_X1_X2)"
   ]
  },
  {
   "cell_type": "markdown",
   "id": "e7d9fbef",
   "metadata": {},
   "source": [
    "# Question 4"
   ]
  },
  {
   "cell_type": "code",
   "execution_count": 5,
   "id": "be9ae62d",
   "metadata": {},
   "outputs": [
    {
     "name": "stdout",
     "output_type": "stream",
     "text": [
      "Values of a and b: 48.48341392902199 151.516586070978\n"
     ]
    }
   ],
   "source": [
    "from scipy.stats import norm\n",
    "\n",
    "# Mean and standard deviation\n",
    "mean = 100\n",
    "std_dev = 20\n",
    "\n",
    "# Find the z-score corresponding to the probability of 0.995 (0.5 + 0.99/2)\n",
    "z_score = norm.ppf(0.995)\n",
    "\n",
    "# Calculate the values of a and b\n",
    "a = mean - z_score * std_dev\n",
    "b = mean + z_score * std_dev\n",
    "\n",
    "print(\"Values of a and b:\", a, b)\n"
   ]
  },
  {
   "cell_type": "markdown",
   "id": "259c6960",
   "metadata": {},
   "source": [
    "## Question 5"
   ]
  },
  {
   "cell_type": "code",
   "execution_count": 6,
   "id": "fb651fb3",
   "metadata": {},
   "outputs": [],
   "source": [
    "conversion_rate = 45\n",
    "mean_profit1 = 5\n",
    "variance_profit1 = 32\n",
    "mean_profit2 = 7\n",
    "variance_profit2 = 42\n",
    "\n",
    "# Mean and standard deviation for total profit in USD\n",
    "mean_total_usd = mean_profit1 + mean_profit2\n",
    "std_dev_total_usd = np.sqrt(variance_profit1 + variance_profit2)\n",
    "\n",
    "# Convert to Rupees\n",
    "mean_total_rupees = mean_total_usd * conversion_rate\n",
    "std_dev_total_rupees = std_dev_total_usd * conversion_rate"
   ]
  },
  {
   "cell_type": "code",
   "execution_count": 7,
   "id": "39c53c09",
   "metadata": {},
   "outputs": [
    {
     "name": "stdout",
     "output_type": "stream",
     "text": [
      "95% probability range for annual profit of the company (in Rupees): (-218.7250885531597, 1298.7250885531598)\n"
     ]
    }
   ],
   "source": [
    "# A. Specify a Rupee range (centered on the mean) such that it contains 95% probability for the annual profit of the company\n",
    "lower_bound = mean_total_rupees - 1.96 * std_dev_total_rupees\n",
    "upper_bound = mean_total_rupees + 1.96 * std_dev_total_rupees\n",
    "print(\"95% probability range for annual profit of the company (in Rupees):\", (lower_bound, upper_bound))\n"
   ]
  },
  {
   "cell_type": "code",
   "execution_count": 8,
   "id": "e63601c5",
   "metadata": {},
   "outputs": [
    {
     "name": "stdout",
     "output_type": "stream",
     "text": [
      "5th percentile of profit for the company (in Rupees): -96.73046620701132\n"
     ]
    }
   ],
   "source": [
    "# B. Specify the 5th percentile of profit (in Rupees) for the company\n",
    "fifth_percentile = norm.ppf(0.05, loc=mean_total_rupees, scale=std_dev_total_rupees)\n",
    "print(\"5th percentile of profit for the company (in Rupees):\", fifth_percentile)\n"
   ]
  },
  {
   "cell_type": "code",
   "execution_count": 9,
   "id": "9861b107",
   "metadata": {},
   "outputs": [
    {
     "name": "stdout",
     "output_type": "stream",
     "text": [
      "Profit1 has a larger probability of making a loss in a given year.\n"
     ]
    }
   ],
   "source": [
    "# C. Determine which of the two divisions has a larger probability of making a loss in a given year\n",
    "# Calculate the z-scores for each division\n",
    "z_score_profit1 = (0 - mean_profit1) / np.sqrt(variance_profit1)\n",
    "z_score_profit2 = (0 - mean_profit2) / np.sqrt(variance_profit2)\n",
    "\n",
    "# Calculate the probabilities of making a loss for each division\n",
    "prob_loss_profit1 = norm.cdf(z_score_profit1)\n",
    "prob_loss_profit2 = norm.cdf(z_score_profit2)\n",
    "\n",
    "# Compare the probabilities\n",
    "if prob_loss_profit1 > prob_loss_profit2:\n",
    "    print(\"Profit1 has a larger probability of making a loss in a given year.\")\n",
    "elif prob_loss_profit1 < prob_loss_profit2:\n",
    "    print(\"Profit2 has a larger probability of making a loss in a given year.\")\n",
    "else:\n",
    "    print(\"Both divisions have the same probability of making a loss in a given year.\")\n"
   ]
  },
  {
   "cell_type": "code",
   "execution_count": null,
   "id": "fff87628",
   "metadata": {},
   "outputs": [],
   "source": []
  }
 ],
 "metadata": {
  "kernelspec": {
   "display_name": "Python 3 (ipykernel)",
   "language": "python",
   "name": "python3"
  },
  "language_info": {
   "codemirror_mode": {
    "name": "ipython",
    "version": 3
   },
   "file_extension": ".py",
   "mimetype": "text/x-python",
   "name": "python",
   "nbconvert_exporter": "python",
   "pygments_lexer": "ipython3",
   "version": "3.11.5"
  }
 },
 "nbformat": 4,
 "nbformat_minor": 5
}
